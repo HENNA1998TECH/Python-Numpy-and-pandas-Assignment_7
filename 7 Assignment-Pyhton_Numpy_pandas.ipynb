{
 "cells": [
  {
   "cell_type": "code",
   "execution_count": 1,
   "id": "3bd77310-c466-4d72-8b6f-3a15fc9d0865",
   "metadata": {},
   "outputs": [
    {
     "name": "stdout",
     "output_type": "stream",
     "text": [
      "Requirement already satisfied: numpy in c:\\users\\henna\\python works\\lib\\site-packages (1.26.4)\n"
     ]
    }
   ],
   "source": [
    "!pip install numpy"
   ]
  },
  {
   "cell_type": "markdown",
   "id": "fb0b8764-ff64-48f3-b2d6-69054705e897",
   "metadata": {},
   "source": [
    "#### Exercise 1:\n",
    "##### Create a numpy array containing the numbers from 1 to 10, and then reshape it to a 2x5 matrix.\n"
   ]
  },
  {
   "cell_type": "code",
   "execution_count": 8,
   "id": "92a7c109-eb03-457b-bd6e-2a3fbafd8c09",
   "metadata": {},
   "outputs": [
    {
     "name": "stdout",
     "output_type": "stream",
     "text": [
      "[[ 1  2  3  4  5]\n",
      " [ 6  7  8  9 10]]\n"
     ]
    }
   ],
   "source": [
    "import numpy as np\n",
    "\n",
    "array = np.arange(1,11)\n",
    "\n",
    "matrix = array.reshape(2,5)\n",
    "print(matrix)"
   ]
  },
  {
   "cell_type": "markdown",
   "id": "56cb01e7-e2e8-4a34-9ffd-8530a05f7991",
   "metadata": {},
   "source": [
    "#### Exercise 2:\n",
    "##### Create a numpy array containing the numbers from 1 to 20, and then extract the elements between the 5th and 15th index.\n"
   ]
  },
  {
   "cell_type": "code",
   "execution_count": 11,
   "id": "818f6e6b-75de-488c-a343-5bf936fb1e02",
   "metadata": {},
   "outputs": [
    {
     "name": "stdout",
     "output_type": "stream",
     "text": [
      "[ 6  7  8  9 10 11 12 13 14 15]\n"
     ]
    }
   ],
   "source": [
    "import numpy as np\n",
    "\n",
    "array = np.arange(1,21)\n",
    "extracted_elements = array[5:15]\n",
    "print(extracted_elements)"
   ]
  },
  {
   "cell_type": "markdown",
   "id": "1e7670e6-433a-48b7-8c0b-b1a39e513c6b",
   "metadata": {},
   "source": [
    "#### Exercise 3\n",
    "##### Create a Pandas series with the following data: {'apples': 3, 'bananas': 2, 'oranges': 1}. Then, add a new item to the series with the key 'pears' and the value 4.\n"
   ]
  },
  {
   "cell_type": "code",
   "execution_count": 14,
   "id": "2e993fdc-c314-45ec-bc4f-8b67a60ec364",
   "metadata": {},
   "outputs": [
    {
     "name": "stdout",
     "output_type": "stream",
     "text": [
      "apples     3\n",
      "banana     2\n",
      "oranges    1\n",
      "pear       4\n",
      "dtype: int64\n"
     ]
    }
   ],
   "source": [
    "import pandas as pd\n",
    "data = {'apples':3,'banana':2,'oranges':1}\n",
    "\n",
    "series = pd.Series(data)\n",
    "\n",
    "series['pear'] = 4\n",
    "print(series)"
   ]
  },
  {
   "cell_type": "markdown",
   "id": "6c6cbda4-e745-4003-b4e5-6ff8a02eb370",
   "metadata": {},
   "source": [
    "#### Exercise 4\n",
    "##### Create a dataframe with the following columns: name, age, and gender. The dataframe should have 10 rows of data.\n"
   ]
  },
  {
   "cell_type": "code",
   "execution_count": 17,
   "id": "e7e49949-f4d7-4094-87b2-643f32d66eeb",
   "metadata": {},
   "outputs": [
    {
     "name": "stdout",
     "output_type": "stream",
     "text": [
      "     name  age  gender\n",
      "0    Adam   23    Male\n",
      "1  Mariya   25  Female\n",
      "2   David   35    Male\n",
      "3    Arun   26    Male\n",
      "4   Anita   27  Female\n",
      "5   Henna   30  Female\n",
      "6    John   28    Male\n",
      "7   Laura   31  Female\n",
      "8   Helen   32  Female\n",
      "9   Eddie   27    Male\n"
     ]
    }
   ],
   "source": [
    "import pandas as pd\n",
    "data = {'name':['Adam','Mariya','David','Arun','Anita','Henna','John','Laura','Helen','Eddie'],\n",
    "        'age':[23,25,35,26,27,30,28,31,32,27],\n",
    "        'gender':['Male','Female','Male','Male','Female','Female','Male','Female','Female','Male']}\n",
    "df = pd.DataFrame(data)\n",
    "print(df)"
   ]
  },
  {
   "cell_type": "markdown",
   "id": "10b77128-29e6-4a38-aa5f-c9eb79f4e63b",
   "metadata": {},
   "source": [
    "#### Exercise 5\n",
    "##### Add a new column to the data frame created in question 1, called occupation. The values for this column should be Programmer, Manager, and Analyst, corresponding to the rows in the dataframe.\n"
   ]
  },
  {
   "cell_type": "code",
   "execution_count": 22,
   "id": "6db28f4b-086b-48bc-82d5-a7e286bfdd44",
   "metadata": {},
   "outputs": [
    {
     "name": "stdout",
     "output_type": "stream",
     "text": [
      "     name  age  gender  occupation\n",
      "0    Adam   23    Male  Programmer\n",
      "1  Mariya   25  Female     Manager\n",
      "2   David   35    Male     Analyst\n",
      "3    Arun   26    Male     Manager\n",
      "4   Anita   27  Female     Analyst\n",
      "5   Henna   30  Female  Programmer\n",
      "6    John   28    Male     Analyst\n",
      "7   Laura   31  Female     Manager\n",
      "8   Helen   32  Female  Programmer\n",
      "9   Eddie   27    Male     Analyst\n"
     ]
    }
   ],
   "source": [
    "occupations = ['Programmer','Manager','Analyst','Manager','Analyst','Programmer','Analyst','Manager','Programmer','Analyst']\n",
    "df['occupation'] = occupations\n",
    "\n",
    "print(df)"
   ]
  },
  {
   "cell_type": "markdown",
   "id": "25e47abb-273b-438c-ad3f-c2a40f89a5b6",
   "metadata": {},
   "source": [
    "#### Exercise 6\n",
    "##### Select the rows of the dataframe where the age is greater than or equal to 30.\n"
   ]
  },
  {
   "cell_type": "code",
   "execution_count": 27,
   "id": "2f967d82-5814-4b12-8ac9-8ecb98cb8cc0",
   "metadata": {},
   "outputs": [
    {
     "name": "stdout",
     "output_type": "stream",
     "text": [
      "    name  age  gender  occupation\n",
      "2  David   35    Male     Analyst\n",
      "5  Henna   30  Female  Programmer\n",
      "7  Laura   31  Female     Manager\n",
      "8  Helen   32  Female  Programmer\n"
     ]
    }
   ],
   "source": [
    "filtered_df = df[df['age'] >=30]\n",
    "print(filtered_df)"
   ]
  },
  {
   "cell_type": "markdown",
   "id": "faeb4f1e-62e5-4514-a100-516ffb98ed6c",
   "metadata": {},
   "source": [
    "#### Exercise 7\n",
    "##### Convert this dataframe to a csv file and read that csv file, finally display the contents.\n"
   ]
  },
  {
   "cell_type": "code",
   "execution_count": 25,
   "id": "16cf7caa-5549-4bf8-b527-dd4013d77adf",
   "metadata": {},
   "outputs": [
    {
     "name": "stdout",
     "output_type": "stream",
     "text": [
      "     name  age  gender  occupation\n",
      "0    Adam   23    Male  Programmer\n",
      "1  Mariya   25  Female     Manager\n",
      "2   David   35    Male     Analyst\n",
      "3    Arun   26    Male     Manager\n",
      "4   Anita   27  Female     Analyst\n",
      "5   Henna   30  Female  Programmer\n",
      "6    John   28    Male     Analyst\n",
      "7   Laura   31  Female     Manager\n",
      "8   Helen   32  Female  Programmer\n",
      "9   Eddie   27    Male     Analyst\n"
     ]
    }
   ],
   "source": [
    "import pandas as pd\n",
    "\n",
    "df.to_csv('dataframe.csv',index=False)\n",
    "\n",
    "new_df = pd.read_csv('dataframe.csv')\n",
    "print(new_df)"
   ]
  },
  {
   "cell_type": "code",
   "execution_count": null,
   "id": "74ec1715-ea1d-4ba9-89cf-3368c6cc3735",
   "metadata": {},
   "outputs": [],
   "source": []
  }
 ],
 "metadata": {
  "kernelspec": {
   "display_name": "Python [conda env:Python works]",
   "language": "python",
   "name": "conda-env-Python_works-py"
  },
  "language_info": {
   "codemirror_mode": {
    "name": "ipython",
    "version": 3
   },
   "file_extension": ".py",
   "mimetype": "text/x-python",
   "name": "python",
   "nbconvert_exporter": "python",
   "pygments_lexer": "ipython3",
   "version": "3.12.7"
  }
 },
 "nbformat": 4,
 "nbformat_minor": 5
}
